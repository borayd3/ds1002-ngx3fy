{
  "nbformat": 4,
  "nbformat_minor": 0,
  "metadata": {
    "colab": {
      "provenance": [],
      "include_colab_link": true
    },
    "kernelspec": {
      "name": "python3",
      "display_name": "Python 3"
    },
    "language_info": {
      "name": "python"
    }
  },
  "cells": [
    {
      "cell_type": "markdown",
      "metadata": {
        "id": "view-in-github",
        "colab_type": "text"
      },
      "source": [
        "<a href=\"https://colab.research.google.com/github/borayd3/ds1002-ngx3fy/blob/main/homework/week-8.ipynb\" target=\"_parent\"><img src=\"https://colab.research.google.com/assets/colab-badge.svg\" alt=\"Open In Colab\"/></a>"
      ]
    },
    {
      "cell_type": "markdown",
      "source": [
        "## While-Loops\n",
        "\n",
        "Perform the following steps in code:\n",
        "1. Define a variable and populate it with `0`.\n",
        "2. Create a while statement that evaluates whether that variable is less than or equal to `20`.\n",
        "3. Within the while loop evaluate if the variable value is even or odd.\n",
        "4. Within the while loop, if the variable value is even, print it. If not, do not print it.\n",
        "5. Within the while loop, finally add `1` to the variable before it repeats."
      ],
      "metadata": {
        "id": "But1V5T5qWJG"
      }
    },
    {
      "cell_type": "code",
      "source": [
        "w = 0\n",
        "\n",
        "while w <= 20:\n",
        "  w % 2 != 0\n",
        "  if w % 2 == 0:\n",
        "    print(w)\n",
        "  w += 1\n",
        ""
      ],
      "metadata": {
        "id": "GyQTkbqUq6SQ",
        "colab": {
          "base_uri": "https://localhost:8080/"
        },
        "outputId": "10a1d690-fa3e-455c-ef22-82ae59468988"
      },
      "execution_count": 103,
      "outputs": [
        {
          "output_type": "stream",
          "name": "stdout",
          "text": [
            "0\n",
            "2\n",
            "4\n",
            "6\n",
            "8\n",
            "10\n",
            "12\n",
            "14\n",
            "16\n",
            "18\n",
            "20\n"
          ]
        }
      ]
    },
    {
      "cell_type": "markdown",
      "source": [
        "## For-Loops with Lists"
      ],
      "metadata": {
        "id": "ghRg1MRwoXvD"
      }
    },
    {
      "cell_type": "code",
      "source": [
        "# Use this list in the exercises below\n",
        "\n",
        "mylist = [9, 15, 23, 4, 92, 47, 33, 17, -4, 18, 38, -242]"
      ],
      "metadata": {
        "id": "G0PaWRBuoZdQ"
      },
      "execution_count": 105,
      "outputs": []
    },
    {
      "cell_type": "code",
      "source": [
        "# Write a command to print out all the values of this list\n",
        "# EXCEPT for any negative values. Omit them from the printing.\n",
        "for number in mylist:\n",
        "  if number < 0 :\n",
        "    continue\n",
        "  print(number)"
      ],
      "metadata": {
        "id": "hzoe9vw3phWs",
        "colab": {
          "base_uri": "https://localhost:8080/"
        },
        "outputId": "1b3ed67a-ac7f-4d24-dd7b-ff4e63a99cf0"
      },
      "execution_count": 104,
      "outputs": [
        {
          "output_type": "stream",
          "name": "stdout",
          "text": [
            "9\n",
            "15\n",
            "23\n",
            "4\n",
            "92\n",
            "47\n",
            "33\n",
            "17\n",
            "18\n",
            "38\n"
          ]
        }
      ]
    },
    {
      "cell_type": "code",
      "source": [
        "# Repeat the command from above, but this time get\n",
        "# the absolute value of any negative values in the list\n",
        "# and print those with the other items.\n",
        "for number in mylist:\n",
        "  if number < 0:\n",
        "    print(abs(number))\n",
        "  else:\n",
        "    print(number)\n"
      ],
      "metadata": {
        "id": "IE1-XLNrpnvy",
        "colab": {
          "base_uri": "https://localhost:8080/"
        },
        "outputId": "26f1edaf-c757-47a3-e5db-871719137f65"
      },
      "execution_count": 106,
      "outputs": [
        {
          "output_type": "stream",
          "name": "stdout",
          "text": [
            "9\n",
            "15\n",
            "23\n",
            "4\n",
            "92\n",
            "47\n",
            "33\n",
            "17\n",
            "4\n",
            "18\n",
            "38\n",
            "242\n"
          ]
        }
      ]
    },
    {
      "cell_type": "code",
      "source": [
        "# Similar to above, write a command to print out items in\n",
        "# the list but omit any values greater than 20 and less than 40.\n",
        "for number in mylist:\n",
        "  if number >20 and number < 40:\n",
        "    continue\n",
        "  print(number)"
      ],
      "metadata": {
        "id": "rC38pZowp4LX",
        "colab": {
          "base_uri": "https://localhost:8080/"
        },
        "outputId": "12c33180-9f30-4d62-8541-0c6b2fd668c7"
      },
      "execution_count": 107,
      "outputs": [
        {
          "output_type": "stream",
          "name": "stdout",
          "text": [
            "9\n",
            "15\n",
            "4\n",
            "92\n",
            "47\n",
            "17\n",
            "-4\n",
            "18\n",
            "-242\n"
          ]
        }
      ]
    },
    {
      "cell_type": "markdown",
      "source": [
        "## For-Loops with Dictionaries"
      ],
      "metadata": {
        "id": "BD1Wg4oSSEdz"
      }
    },
    {
      "cell_type": "code",
      "source": [
        "capitals = {'United States':'Washington DC',\n",
        "          'Italy':'Rome',\n",
        "          'England':'London',\n",
        "          'Thailand':'Bangkok',\n",
        "          'Brazil':'Brasilia'}"
      ],
      "metadata": {
        "id": "9DpHR_WzSGA8"
      },
      "execution_count": 108,
      "outputs": []
    },
    {
      "cell_type": "code",
      "source": [
        "# Write a command to print out all the keys of this dict\n",
        "capitals.keys()"
      ],
      "metadata": {
        "id": "Iy_i6RE3S1ta",
        "colab": {
          "base_uri": "https://localhost:8080/"
        },
        "outputId": "fc2e5ba8-dbae-41ab-fead-caf191accf53"
      },
      "execution_count": 109,
      "outputs": [
        {
          "output_type": "execute_result",
          "data": {
            "text/plain": [
              "dict_keys(['United States', 'Italy', 'England', 'Thailand', 'Brazil'])"
            ]
          },
          "metadata": {},
          "execution_count": 109
        }
      ]
    },
    {
      "cell_type": "code",
      "source": [
        "# Write a command to print out all the values of this dict\n",
        "capitals.values()"
      ],
      "metadata": {
        "id": "eYNBRQAsS95v",
        "colab": {
          "base_uri": "https://localhost:8080/"
        },
        "outputId": "372ff81d-e539-4ca8-d493-ca615cd4a764"
      },
      "execution_count": 27,
      "outputs": [
        {
          "output_type": "execute_result",
          "data": {
            "text/plain": [
              "dict_values(['Washington DC', 'Rome', 'London', 'Bangkok', 'Brasilia'])"
            ]
          },
          "metadata": {},
          "execution_count": 27
        }
      ]
    },
    {
      "cell_type": "code",
      "source": [
        "# Write a command to print all the keys and values for this dict\n",
        "for key, value in capitals.items():\n",
        "  print(key, value)\n"
      ],
      "metadata": {
        "id": "b1KYFdDxSH7X",
        "colab": {
          "base_uri": "https://localhost:8080/"
        },
        "outputId": "9b08ed85-5562-4cd2-aac0-0623b03e249e"
      },
      "execution_count": 34,
      "outputs": [
        {
          "output_type": "stream",
          "name": "stdout",
          "text": [
            "United States Washington DC\n",
            "Italy Rome\n",
            "England London\n",
            "Thailand Bangkok\n",
            "Brazil Brasilia\n"
          ]
        }
      ]
    },
    {
      "cell_type": "code",
      "source": [
        "# Write a command to print only the first three values and NOTHING more.\n",
        "for value in capitals:\n",
        "  if (capitals[value]) == 'Bangkok':\n",
        "    break\n",
        "  print(capitals[value])"
      ],
      "metadata": {
        "id": "pun10Fq2oonQ",
        "colab": {
          "base_uri": "https://localhost:8080/"
        },
        "outputId": "08d52fc7-a885-442f-d653-a380ff2ea65f"
      },
      "execution_count": 76,
      "outputs": [
        {
          "output_type": "stream",
          "name": "stdout",
          "text": [
            "Washington DC\n",
            "Rome\n",
            "London\n"
          ]
        }
      ]
    }
  ]
}