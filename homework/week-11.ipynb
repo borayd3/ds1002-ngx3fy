{
  "nbformat": 4,
  "nbformat_minor": 0,
  "metadata": {
    "colab": {
      "provenance": [],
      "include_colab_link": true
    },
    "kernelspec": {
      "name": "python3",
      "display_name": "Python 3"
    },
    "language_info": {
      "name": "python"
    }
  },
  "cells": [
    {
      "cell_type": "markdown",
      "metadata": {
        "id": "view-in-github",
        "colab_type": "text"
      },
      "source": [
        "<a href=\"https://colab.research.google.com/github/borayd3/ds1002-ngx3fy/blob/main/homework/week-11.ipynb\" target=\"_parent\"><img src=\"https://colab.research.google.com/assets/colab-badge.svg\" alt=\"Open In Colab\"/></a>"
      ]
    },
    {
      "cell_type": "markdown",
      "source": [
        "# Homework - Error Handling & Recursion\n",
        "\n",
        "Complete the cells below. Pay close attention to all directions given.\n",
        "\n",
        "## Error Handling (3 pts)\n",
        "\n",
        "```\n",
        "def throw_me_an_error():\n",
        "  val1 = 14\n",
        "  val2 = 0\n",
        "  return val1 / val2\n",
        "\n",
        "throw_me_an_error()\n",
        "```\n",
        "\n",
        "The function above is designed to deliberately throw an error.\n",
        "\n",
        "Create a new version of the function but add `try` and `except` statements correctly. Your exception should print out the type of error this function created. There are a couple of different ways you could do this.\n"
      ],
      "metadata": {
        "id": "v14Xtd9oiTGF"
      }
    },
    {
      "cell_type": "code",
      "execution_count": 9,
      "metadata": {
        "id": "-dfq0Vo_iSi7",
        "colab": {
          "base_uri": "https://localhost:8080/"
        },
        "outputId": "f521a13f-3ab0-4893-e9b4-eabe923533c8"
      },
      "outputs": [
        {
          "output_type": "stream",
          "name": "stdout",
          "text": [
            "Unfortunately, you cannot divide by zero!\n"
          ]
        }
      ],
      "source": [
        "def throw_me_an_error1():\n",
        "  try:\n",
        "     val1 = 14\n",
        "     val2 = 0\n",
        "     return val1/val2\n",
        "  except ZeroDivisionError:\n",
        "    print(\"Unfortunately, you cannot divide by zero!\")\n",
        "\n",
        "throw_me_an_error1()"
      ]
    },
    {
      "cell_type": "markdown",
      "source": [
        "## Error Handling (4 pts)\n",
        "\n",
        "Extend the class below to include some error handling. Assume the remote resource is offline for a moment: How would you give a message to the user indicating what has gone wrong? (Hint: one way you can test this is by deliberately misspelling the URL for the remote resource.)\n",
        "\n",
        "Also, include error handling logic so that execution of the class method `guid()` always returns a line \"Your request has been completed\" along with the guid it created.\n",
        "\n",
        "```\n",
        "import requests\n",
        "import json\n",
        "import sys\n",
        "\n",
        "class Id:\n",
        "\n",
        "  def guid():\n",
        "    response = requests.get('https://ids.pods.uvarc.io/guid')\n",
        "    body = json.loads(response.text)\n",
        "    return body['id']\n",
        "\n",
        "Id.guid()\n",
        "```"
      ],
      "metadata": {
        "id": "gf9m78RWmWqC"
      }
    },
    {
      "cell_type": "code",
      "source": [
        "import requests\n",
        "import json\n",
        "import sys\n",
        "\n",
        "\n",
        "class Id:\n",
        "\n",
        "  def guid():\n",
        "    try:\n",
        "      response = requests.get('https://ids.pods.uvarc.io/guid')\n",
        "      body = json.loads(response.text)\n",
        "      return \"Your request has been completed, \" + body['id']\n",
        "    except MissingSchema:\n",
        "      print(\"Website is unresponsive! Please check the URL\")\n",
        "\n",
        "\n",
        "Id.guid()"
      ],
      "metadata": {
        "id": "hT5B-LokmUbU",
        "colab": {
          "base_uri": "https://localhost:8080/",
          "height": 35
        },
        "outputId": "9fcca120-e5e9-4a48-c570-b8119a5f3be9"
      },
      "execution_count": 49,
      "outputs": [
        {
          "output_type": "execute_result",
          "data": {
            "text/plain": [
              "'Your request has been completed, 058c8b0c-8827-4295-95c8-5b2799ef5fd8'"
            ],
            "application/vnd.google.colaboratory.intrinsic+json": {
              "type": "string"
            }
          },
          "metadata": {},
          "execution_count": 49
        }
      ]
    },
    {
      "cell_type": "markdown",
      "source": [
        "## Recursive Functions (3 pts)\n",
        "\n",
        "In the cell below, explain line by line the logic of what is being calculated when the function is called with an input value of 2.\n",
        "\n",
        "```\n",
        "def squarer(n):\n",
        "  if n == 1:\n",
        "    return 2\n",
        "  else:\n",
        "    return squarer(n-1) ** 2 + n\n",
        "\n",
        "squarer(2)\n",
        "```"
      ],
      "metadata": {
        "id": "XCuNofSFomZ6"
      }
    },
    {
      "cell_type": "code",
      "source": [
        "Line 1.\n",
        "# Line one provides the code needed to define the function that will be newly created below.\n",
        "# The function is named squarer and takes one postitonal integer argument, n. In this case,\n",
        "# the positional argument is the value 2 for this function.\n",
        "\n",
        "Line 2.\n",
        "# This line indicates a particular circumstance within the function that will occur if the n value is equal to 1.\n",
        "# If n is equal to 1, the next line will run. Otherwise, it will go on to the else clause within this function.\n",
        "# Since the n value originally put into the function was 2, the function will not execute this if statement and\n",
        "# will go on the the else statement.\n",
        "\n",
        "Line 3.\n",
        "# Line three states that if the n value provided within sqaurer() is equal to 1, the function will return out\n",
        "# the value 2. It is the end of the if-clause within this function if n is equal to 1. Since the original\n",
        "# value put into this function was 2, this function will not run the if statement and return a 2.\n",
        "\n",
        "Line 4.\n",
        "# This line marks the beginning of the else clause within this function. If the n value is not equal to 1 at any\n",
        "# point, the function will go to execute this part of the functions rather than the if-clause. Since the original n\n",
        "# value put into squarer(n) is 2, the function will run this else clause.\n",
        "\n",
        "Line 5.\n",
        "# Line 5 states that if n is not equal to 1, the n value will be subtracted from 1 and this new value will be\n",
        "# put back into the function to see if n is now equal to 1. This value will then be raised to the second power.\n",
        "# Finally, the original n value will then be added to the result of what was squared.\n",
        "# Since 2 was the original n value put into squarer(n), this else portion of the function will run.\n",
        "# In this case, 2-1 = 1, making the n in squarer(n) now equal to 1. Putting this back into the original function\n",
        "# squarer(n), the value to be returned, per line 2, and further used within this else statement is 2.\n",
        "# 2 is then raised to the second power, equaling 4. 4 plus the original n value put into this function, 2,\n",
        "# equals 6.\n",
        "\n"
      ],
      "metadata": {
        "id": "oYiqS2cxxXm4"
      },
      "execution_count": null,
      "outputs": []
    }
  ]
}