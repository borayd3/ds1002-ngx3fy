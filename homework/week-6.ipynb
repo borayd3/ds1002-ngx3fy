{
  "nbformat": 4,
  "nbformat_minor": 0,
  "metadata": {
    "colab": {
      "provenance": [],
      "include_colab_link": true
    },
    "kernelspec": {
      "name": "python3",
      "display_name": "Python 3"
    },
    "language_info": {
      "name": "python"
    }
  },
  "cells": [
    {
      "cell_type": "markdown",
      "metadata": {
        "id": "view-in-github",
        "colab_type": "text"
      },
      "source": [
        "<a href=\"https://colab.research.google.com/github/borayd3/ds1002-ngx3fy/blob/main/homework/week-6.ipynb\" target=\"_parent\"><img src=\"https://colab.research.google.com/assets/colab-badge.svg\" alt=\"Open In Colab\"/></a>"
      ]
    },
    {
      "cell_type": "markdown",
      "source": [
        "# Homework - Week 6\n",
        "\n",
        "Complete the following blocks as specified in the directions. Run each cell to return the desired output. Save your notebook back to your GitHub repository and submit the GitHub URL for your notebook for review."
      ],
      "metadata": {
        "id": "xJ6ZWHKXW4qY"
      }
    },
    {
      "cell_type": "markdown",
      "source": [
        "# Pandas\n",
        "\n",
        "## 1. Fetch and Load Data\n",
        "In class we created a DataFrame using the `read_csv` method. Go to https://catalog.data.gov/dataset/electric-vehicle-population-data and download the CSV format of the \"Electric Vehicle Population Data\" dataset. Then upload it to Google Colab.\n",
        "\n",
        "Load that data into a Pandas DataFrame and display the first 20 rows. Show your work."
      ],
      "metadata": {
        "id": "2xOjrZ-Rg28_"
      }
    },
    {
      "cell_type": "code",
      "source": [
        "# Set up pandas and populate the dataframe above using the raw data. Then continue to work with the dataframe in the questions below.\n",
        "import numpy as np\n",
        "import pandas as pd\n",
        "\n",
        "EVP_data = pd.read_csv('Electric_Vehicle_Population_Data.csv')"
      ],
      "metadata": {
        "id": "--XDmwVsbMC0"
      },
      "execution_count": 12,
      "outputs": []
    },
    {
      "cell_type": "code",
      "source": [
        "# Format a command that how many rows and columns are in this dataset.\n",
        "EVP_data.shape"
      ],
      "metadata": {
        "id": "BOEWyifRiA-W",
        "outputId": "9dab18aa-437a-40da-8a9f-7864706b8402",
        "colab": {
          "base_uri": "https://localhost:8080/"
        }
      },
      "execution_count": 16,
      "outputs": [
        {
          "output_type": "execute_result",
          "data": {
            "text/plain": [
              "(150482, 17)"
            ]
          },
          "metadata": {},
          "execution_count": 16
        }
      ]
    },
    {
      "cell_type": "code",
      "source": [
        "# Format a command that displays every other row of records 1000 through 1999, and the columns \"City\", \"State\", \"Model Year\", and \"Make\".\n",
        "EVP_data.loc[1000:1999:2, [\"City\",\"State\",\"Model Year\", \"Make\"] ]"
      ],
      "metadata": {
        "id": "RxqOYSNXiJ5U",
        "outputId": "3ab73349-72b7-4255-cf44-48c7c467fa65",
        "colab": {
          "base_uri": "https://localhost:8080/",
          "height": 424
        }
      },
      "execution_count": 31,
      "outputs": [
        {
          "output_type": "execute_result",
          "data": {
            "text/plain": [
              "             City State  Model Year      Make\n",
              "1000  Federal Way    WA        2022       KIA\n",
              "1002    Arlington    WA        2021      JEEP\n",
              "1004       Burien    WA        2018      AUDI\n",
              "1006         Kent    WA        2018     TESLA\n",
              "1008    Newcastle    WA        2022     TESLA\n",
              "...           ...   ...         ...       ...\n",
              "1990      Bothell    WA        2023       KIA\n",
              "1992      Poulsbo    WA        2015     TESLA\n",
              "1994     Kirkland    WA        2018  CHRYSLER\n",
              "1996     Bellevue    WA        2014     TESLA\n",
              "1998         Kent    WA        2023   HYUNDAI\n",
              "\n",
              "[500 rows x 4 columns]"
            ],
            "text/html": [
              "\n",
              "  <div id=\"df-281efc6d-fb4e-4ed6-9b4e-0dc079d307b3\" class=\"colab-df-container\">\n",
              "    <div>\n",
              "<style scoped>\n",
              "    .dataframe tbody tr th:only-of-type {\n",
              "        vertical-align: middle;\n",
              "    }\n",
              "\n",
              "    .dataframe tbody tr th {\n",
              "        vertical-align: top;\n",
              "    }\n",
              "\n",
              "    .dataframe thead th {\n",
              "        text-align: right;\n",
              "    }\n",
              "</style>\n",
              "<table border=\"1\" class=\"dataframe\">\n",
              "  <thead>\n",
              "    <tr style=\"text-align: right;\">\n",
              "      <th></th>\n",
              "      <th>City</th>\n",
              "      <th>State</th>\n",
              "      <th>Model Year</th>\n",
              "      <th>Make</th>\n",
              "    </tr>\n",
              "  </thead>\n",
              "  <tbody>\n",
              "    <tr>\n",
              "      <th>1000</th>\n",
              "      <td>Federal Way</td>\n",
              "      <td>WA</td>\n",
              "      <td>2022</td>\n",
              "      <td>KIA</td>\n",
              "    </tr>\n",
              "    <tr>\n",
              "      <th>1002</th>\n",
              "      <td>Arlington</td>\n",
              "      <td>WA</td>\n",
              "      <td>2021</td>\n",
              "      <td>JEEP</td>\n",
              "    </tr>\n",
              "    <tr>\n",
              "      <th>1004</th>\n",
              "      <td>Burien</td>\n",
              "      <td>WA</td>\n",
              "      <td>2018</td>\n",
              "      <td>AUDI</td>\n",
              "    </tr>\n",
              "    <tr>\n",
              "      <th>1006</th>\n",
              "      <td>Kent</td>\n",
              "      <td>WA</td>\n",
              "      <td>2018</td>\n",
              "      <td>TESLA</td>\n",
              "    </tr>\n",
              "    <tr>\n",
              "      <th>1008</th>\n",
              "      <td>Newcastle</td>\n",
              "      <td>WA</td>\n",
              "      <td>2022</td>\n",
              "      <td>TESLA</td>\n",
              "    </tr>\n",
              "    <tr>\n",
              "      <th>...</th>\n",
              "      <td>...</td>\n",
              "      <td>...</td>\n",
              "      <td>...</td>\n",
              "      <td>...</td>\n",
              "    </tr>\n",
              "    <tr>\n",
              "      <th>1990</th>\n",
              "      <td>Bothell</td>\n",
              "      <td>WA</td>\n",
              "      <td>2023</td>\n",
              "      <td>KIA</td>\n",
              "    </tr>\n",
              "    <tr>\n",
              "      <th>1992</th>\n",
              "      <td>Poulsbo</td>\n",
              "      <td>WA</td>\n",
              "      <td>2015</td>\n",
              "      <td>TESLA</td>\n",
              "    </tr>\n",
              "    <tr>\n",
              "      <th>1994</th>\n",
              "      <td>Kirkland</td>\n",
              "      <td>WA</td>\n",
              "      <td>2018</td>\n",
              "      <td>CHRYSLER</td>\n",
              "    </tr>\n",
              "    <tr>\n",
              "      <th>1996</th>\n",
              "      <td>Bellevue</td>\n",
              "      <td>WA</td>\n",
              "      <td>2014</td>\n",
              "      <td>TESLA</td>\n",
              "    </tr>\n",
              "    <tr>\n",
              "      <th>1998</th>\n",
              "      <td>Kent</td>\n",
              "      <td>WA</td>\n",
              "      <td>2023</td>\n",
              "      <td>HYUNDAI</td>\n",
              "    </tr>\n",
              "  </tbody>\n",
              "</table>\n",
              "<p>500 rows × 4 columns</p>\n",
              "</div>\n",
              "    <div class=\"colab-df-buttons\">\n",
              "\n",
              "  <div class=\"colab-df-container\">\n",
              "    <button class=\"colab-df-convert\" onclick=\"convertToInteractive('df-281efc6d-fb4e-4ed6-9b4e-0dc079d307b3')\"\n",
              "            title=\"Convert this dataframe to an interactive table.\"\n",
              "            style=\"display:none;\">\n",
              "\n",
              "  <svg xmlns=\"http://www.w3.org/2000/svg\" height=\"24px\" viewBox=\"0 -960 960 960\">\n",
              "    <path d=\"M120-120v-720h720v720H120Zm60-500h600v-160H180v160Zm220 220h160v-160H400v160Zm0 220h160v-160H400v160ZM180-400h160v-160H180v160Zm440 0h160v-160H620v160ZM180-180h160v-160H180v160Zm440 0h160v-160H620v160Z\"/>\n",
              "  </svg>\n",
              "    </button>\n",
              "\n",
              "  <style>\n",
              "    .colab-df-container {\n",
              "      display:flex;\n",
              "      gap: 12px;\n",
              "    }\n",
              "\n",
              "    .colab-df-convert {\n",
              "      background-color: #E8F0FE;\n",
              "      border: none;\n",
              "      border-radius: 50%;\n",
              "      cursor: pointer;\n",
              "      display: none;\n",
              "      fill: #1967D2;\n",
              "      height: 32px;\n",
              "      padding: 0 0 0 0;\n",
              "      width: 32px;\n",
              "    }\n",
              "\n",
              "    .colab-df-convert:hover {\n",
              "      background-color: #E2EBFA;\n",
              "      box-shadow: 0px 1px 2px rgba(60, 64, 67, 0.3), 0px 1px 3px 1px rgba(60, 64, 67, 0.15);\n",
              "      fill: #174EA6;\n",
              "    }\n",
              "\n",
              "    .colab-df-buttons div {\n",
              "      margin-bottom: 4px;\n",
              "    }\n",
              "\n",
              "    [theme=dark] .colab-df-convert {\n",
              "      background-color: #3B4455;\n",
              "      fill: #D2E3FC;\n",
              "    }\n",
              "\n",
              "    [theme=dark] .colab-df-convert:hover {\n",
              "      background-color: #434B5C;\n",
              "      box-shadow: 0px 1px 3px 1px rgba(0, 0, 0, 0.15);\n",
              "      filter: drop-shadow(0px 1px 2px rgba(0, 0, 0, 0.3));\n",
              "      fill: #FFFFFF;\n",
              "    }\n",
              "  </style>\n",
              "\n",
              "    <script>\n",
              "      const buttonEl =\n",
              "        document.querySelector('#df-281efc6d-fb4e-4ed6-9b4e-0dc079d307b3 button.colab-df-convert');\n",
              "      buttonEl.style.display =\n",
              "        google.colab.kernel.accessAllowed ? 'block' : 'none';\n",
              "\n",
              "      async function convertToInteractive(key) {\n",
              "        const element = document.querySelector('#df-281efc6d-fb4e-4ed6-9b4e-0dc079d307b3');\n",
              "        const dataTable =\n",
              "          await google.colab.kernel.invokeFunction('convertToInteractive',\n",
              "                                                    [key], {});\n",
              "        if (!dataTable) return;\n",
              "\n",
              "        const docLinkHtml = 'Like what you see? Visit the ' +\n",
              "          '<a target=\"_blank\" href=https://colab.research.google.com/notebooks/data_table.ipynb>data table notebook</a>'\n",
              "          + ' to learn more about interactive tables.';\n",
              "        element.innerHTML = '';\n",
              "        dataTable['output_type'] = 'display_data';\n",
              "        await google.colab.output.renderOutput(dataTable, element);\n",
              "        const docLink = document.createElement('div');\n",
              "        docLink.innerHTML = docLinkHtml;\n",
              "        element.appendChild(docLink);\n",
              "      }\n",
              "    </script>\n",
              "  </div>\n",
              "\n",
              "\n",
              "<div id=\"df-442cd2f0-d2f8-4918-9fce-3279dc9f08b8\">\n",
              "  <button class=\"colab-df-quickchart\" onclick=\"quickchart('df-442cd2f0-d2f8-4918-9fce-3279dc9f08b8')\"\n",
              "            title=\"Suggest charts.\"\n",
              "            style=\"display:none;\">\n",
              "\n",
              "<svg xmlns=\"http://www.w3.org/2000/svg\" height=\"24px\"viewBox=\"0 0 24 24\"\n",
              "     width=\"24px\">\n",
              "    <g>\n",
              "        <path d=\"M19 3H5c-1.1 0-2 .9-2 2v14c0 1.1.9 2 2 2h14c1.1 0 2-.9 2-2V5c0-1.1-.9-2-2-2zM9 17H7v-7h2v7zm4 0h-2V7h2v10zm4 0h-2v-4h2v4z\"/>\n",
              "    </g>\n",
              "</svg>\n",
              "  </button>\n",
              "\n",
              "<style>\n",
              "  .colab-df-quickchart {\n",
              "      --bg-color: #E8F0FE;\n",
              "      --fill-color: #1967D2;\n",
              "      --hover-bg-color: #E2EBFA;\n",
              "      --hover-fill-color: #174EA6;\n",
              "      --disabled-fill-color: #AAA;\n",
              "      --disabled-bg-color: #DDD;\n",
              "  }\n",
              "\n",
              "  [theme=dark] .colab-df-quickchart {\n",
              "      --bg-color: #3B4455;\n",
              "      --fill-color: #D2E3FC;\n",
              "      --hover-bg-color: #434B5C;\n",
              "      --hover-fill-color: #FFFFFF;\n",
              "      --disabled-bg-color: #3B4455;\n",
              "      --disabled-fill-color: #666;\n",
              "  }\n",
              "\n",
              "  .colab-df-quickchart {\n",
              "    background-color: var(--bg-color);\n",
              "    border: none;\n",
              "    border-radius: 50%;\n",
              "    cursor: pointer;\n",
              "    display: none;\n",
              "    fill: var(--fill-color);\n",
              "    height: 32px;\n",
              "    padding: 0;\n",
              "    width: 32px;\n",
              "  }\n",
              "\n",
              "  .colab-df-quickchart:hover {\n",
              "    background-color: var(--hover-bg-color);\n",
              "    box-shadow: 0 1px 2px rgba(60, 64, 67, 0.3), 0 1px 3px 1px rgba(60, 64, 67, 0.15);\n",
              "    fill: var(--button-hover-fill-color);\n",
              "  }\n",
              "\n",
              "  .colab-df-quickchart-complete:disabled,\n",
              "  .colab-df-quickchart-complete:disabled:hover {\n",
              "    background-color: var(--disabled-bg-color);\n",
              "    fill: var(--disabled-fill-color);\n",
              "    box-shadow: none;\n",
              "  }\n",
              "\n",
              "  .colab-df-spinner {\n",
              "    border: 2px solid var(--fill-color);\n",
              "    border-color: transparent;\n",
              "    border-bottom-color: var(--fill-color);\n",
              "    animation:\n",
              "      spin 1s steps(1) infinite;\n",
              "  }\n",
              "\n",
              "  @keyframes spin {\n",
              "    0% {\n",
              "      border-color: transparent;\n",
              "      border-bottom-color: var(--fill-color);\n",
              "      border-left-color: var(--fill-color);\n",
              "    }\n",
              "    20% {\n",
              "      border-color: transparent;\n",
              "      border-left-color: var(--fill-color);\n",
              "      border-top-color: var(--fill-color);\n",
              "    }\n",
              "    30% {\n",
              "      border-color: transparent;\n",
              "      border-left-color: var(--fill-color);\n",
              "      border-top-color: var(--fill-color);\n",
              "      border-right-color: var(--fill-color);\n",
              "    }\n",
              "    40% {\n",
              "      border-color: transparent;\n",
              "      border-right-color: var(--fill-color);\n",
              "      border-top-color: var(--fill-color);\n",
              "    }\n",
              "    60% {\n",
              "      border-color: transparent;\n",
              "      border-right-color: var(--fill-color);\n",
              "    }\n",
              "    80% {\n",
              "      border-color: transparent;\n",
              "      border-right-color: var(--fill-color);\n",
              "      border-bottom-color: var(--fill-color);\n",
              "    }\n",
              "    90% {\n",
              "      border-color: transparent;\n",
              "      border-bottom-color: var(--fill-color);\n",
              "    }\n",
              "  }\n",
              "</style>\n",
              "\n",
              "  <script>\n",
              "    async function quickchart(key) {\n",
              "      const quickchartButtonEl =\n",
              "        document.querySelector('#' + key + ' button');\n",
              "      quickchartButtonEl.disabled = true;  // To prevent multiple clicks.\n",
              "      quickchartButtonEl.classList.add('colab-df-spinner');\n",
              "      try {\n",
              "        const charts = await google.colab.kernel.invokeFunction(\n",
              "            'suggestCharts', [key], {});\n",
              "      } catch (error) {\n",
              "        console.error('Error during call to suggestCharts:', error);\n",
              "      }\n",
              "      quickchartButtonEl.classList.remove('colab-df-spinner');\n",
              "      quickchartButtonEl.classList.add('colab-df-quickchart-complete');\n",
              "    }\n",
              "    (() => {\n",
              "      let quickchartButtonEl =\n",
              "        document.querySelector('#df-442cd2f0-d2f8-4918-9fce-3279dc9f08b8 button');\n",
              "      quickchartButtonEl.style.display =\n",
              "        google.colab.kernel.accessAllowed ? 'block' : 'none';\n",
              "    })();\n",
              "  </script>\n",
              "</div>\n",
              "    </div>\n",
              "  </div>\n"
            ]
          },
          "metadata": {},
          "execution_count": 31
        }
      ]
    },
    {
      "cell_type": "markdown",
      "source": [
        "# 2. Cleaning/Imputing Data\n",
        "\n",
        "In class we reviewed methods for removing duplicate rows and handling empty cell values. Download [this data set](https://github.com/nmagee/ds1002/blob/main/data/very-messy-data.csv) and upload into Google Colab.\n",
        "\n",
        "Create another Pandas DataFrame from that data and perform the following steps."
      ],
      "metadata": {
        "id": "ne7qgu7nVtiI"
      }
    },
    {
      "cell_type": "code",
      "source": [
        "# Set up pandas and populate the dataframe above using the raw data. Then continue to work with the dataframe in the questions below.\n",
        "import numpy as np\n",
        "import pandas as pd\n",
        "\n",
        "VMD = pd.read_csv('very-messy-data.csv')"
      ],
      "metadata": {
        "id": "sDYMm0QpWKYO"
      },
      "execution_count": 32,
      "outputs": []
    },
    {
      "cell_type": "code",
      "source": [
        "# Write a snippet of code that will display the number of duplicate rows exist in the DF.\n",
        "VMD.duplicated()\n",
        "print(VMD.duplicated().sum())"
      ],
      "metadata": {
        "id": "keh0p_RjWMDy",
        "outputId": "eb6b0d31-2315-4146-fc7a-491b1776bbf1",
        "colab": {
          "base_uri": "https://localhost:8080/"
        }
      },
      "execution_count": 34,
      "outputs": [
        {
          "output_type": "stream",
          "name": "stdout",
          "text": [
            "316\n"
          ]
        }
      ]
    },
    {
      "cell_type": "code",
      "source": [
        "# Next, remove all duplicate rows using Python.\n",
        "VMD = VMD.drop_duplicates()"
      ],
      "metadata": {
        "id": "lJqw97KwWraS"
      },
      "execution_count": 48,
      "outputs": []
    },
    {
      "cell_type": "code",
      "source": [
        "# For the FOUR columns involving sepal and petal length and width, update all NaN\n",
        "# values with the column mean such that NO empty cells remain. This method\n",
        "# is called \"imputation\" because it fills in cells in a statistically less-impactful\n",
        "# way than if they were blank.\n",
        "\n",
        "# Show how you would update those four columns in code\n",
        "VMD.head()\n",
        "VMD_filled = VMD.fillna(VMD.mean())\n",
        "print(VMD_filled.head(20))"
      ],
      "metadata": {
        "id": "yGbZ4Vy-W2pm",
        "outputId": "d135e94a-c757-488c-e727-cbe6eaed3490",
        "colab": {
          "base_uri": "https://localhost:8080/"
        }
      },
      "execution_count": 61,
      "outputs": [
        {
          "output_type": "stream",
          "name": "stdout",
          "text": [
            "    id  sepal_length  sepal_width  petal_length  petal_width    species\n",
            "0    1         3.500     2.900000           1.4     0.500000  virginica\n",
            "1    2         3.600     3.200000           3.0     0.500000     setosa\n",
            "2    3         3.800     2.987694           2.2     1.500000     setosa\n",
            "3    4         5.800     2.700000           2.6     1.200000  virginica\n",
            "4    5         4.900     3.600000           3.0     1.200000  virginica\n",
            "5    6         5.000     2.700000           1.4     2.300000     setosa\n",
            "6    7         4.800     3.000000           2.6     1.400000     setosa\n",
            "7    8         5.500     2.200000           2.1     2.100000  virginica\n",
            "8    9         5.500     2.900000           1.1     3.000000     setosa\n",
            "9   10         4.525     3.400000           2.6     1.900000  virginica\n",
            "10  11         3.700     2.100000           1.4     1.300000     setosa\n",
            "11  12         4.525     3.500000           1.6     2.900000     setosa\n",
            "12  13         4.700     2.000000           1.2     1.900000  virginica\n",
            "13  14         6.000     2.987694           1.1     2.600000  virginica\n",
            "14  15         3.300     2.700000           2.9     0.400000     setosa\n",
            "15  16         4.100     3.500000           1.9     0.700000  virginica\n",
            "16  17         4.600     2.900000           2.1     2.600000  virginica\n",
            "17  18         3.700     2.600000           1.3     0.900000     setosa\n",
            "18  19         5.500     2.500000           1.8     1.800000  virginica\n",
            "19  20         3.700     2.400000           1.2     1.561863     setosa\n"
          ]
        },
        {
          "output_type": "stream",
          "name": "stderr",
          "text": [
            "<ipython-input-61-a3fb24452bc2>:8: FutureWarning: The default value of numeric_only in DataFrame.mean is deprecated. In a future version, it will default to False. In addition, specifying 'numeric_only=None' is deprecated. Select only valid columns or specify the value of numeric_only to silence this warning.\n",
            "  VMD_filled = VMD.fillna(VMD.mean())\n"
          ]
        }
      ]
    },
    {
      "cell_type": "markdown",
      "source": [
        "# 3. Save to a New CSV\n",
        "\n",
        "Preserve your updated DF to a CSV file by using the method built into Pandas.\n",
        "Name the output file `very-clean-data.csv` and save it to GitHub in the same directory where you will save this homework. We will review both your Colab notebook and the cleaned data file."
      ],
      "metadata": {
        "id": "v1Y4RoeLXZnI"
      }
    },
    {
      "cell_type": "code",
      "source": [
        "VMD_filled.to_csv('./very-clean-data.csv')"
      ],
      "metadata": {
        "id": "3BAuM_WjyJZf"
      },
      "execution_count": 63,
      "outputs": []
    }
  ]
}