{
  "nbformat": 4,
  "nbformat_minor": 0,
  "metadata": {
    "colab": {
      "provenance": [],
      "include_colab_link": true
    },
    "kernelspec": {
      "name": "ir",
      "display_name": "R"
    },
    "language_info": {
      "name": "R"
    }
  },
  "cells": [
    {
      "cell_type": "markdown",
      "metadata": {
        "id": "view-in-github",
        "colab_type": "text"
      },
      "source": [
        "<a href=\"https://colab.research.google.com/github/borayd3/ds1002-ngx3fy/blob/main/homework/week-15.ipynb\" target=\"_parent\"><img src=\"https://colab.research.google.com/assets/colab-badge.svg\" alt=\"Open In Colab\"/></a>"
      ]
    },
    {
      "cell_type": "markdown",
      "source": [
        "# Homework - Week 15\n",
        "\n",
        "Complete the following blocks as specified in the directions. Run each cell to return the desired output. Save your notebook back to your GitHub repository and submit the GitHub URL to your notebook for review."
      ],
      "metadata": {
        "id": "sZruw3XQogej"
      }
    },
    {
      "cell_type": "markdown",
      "source": [
        "## 1. Create Functions (4 pts)\n",
        "\n",
        "Create two functions in the cells below, according to the prompts given."
      ],
      "metadata": {
        "id": "lkaofBQypx1X"
      }
    },
    {
      "cell_type": "code",
      "source": [
        "# create a function in R that:\n",
        "#   1. takes a single integer as an input parameter\n",
        "#   2. determines whether the integer is even or odd\n",
        "#   3. returns a character statement \"The integer <x> is even\" or \"The integer <x> is odd\" (replace <x> with the actual input provided)\n",
        "#\n",
        "# then execute the function twice using two different input values, displaying even and odd results.\n",
        "\n",
        "\n",
        "even_or_odd <- function (var1) {\n",
        "  r = var1 %% 2\n",
        "if (r == 0 ) {\n",
        "    return(paste(\"The integer\", var1, \"is even\"))\n",
        "}\n",
        "if (r != 0){\n",
        "  return(paste(\"The integer\",var1, \"is odd\"))\n",
        "}\n",
        "}\n",
        "\n",
        "even_or_odd(307)\n",
        "even_or_odd(498)\n"
      ],
      "metadata": {
        "id": "1fjq5bkEp6Zv",
        "outputId": "dc0ef7d6-259d-453b-e3d7-b2a8c82eeb31",
        "colab": {
          "base_uri": "https://localhost:8080/",
          "height": 52
        }
      },
      "execution_count": 71,
      "outputs": [
        {
          "output_type": "display_data",
          "data": {
            "text/html": [
              "'The integer 307 is odd'"
            ],
            "text/markdown": "'The integer 307 is odd'",
            "text/latex": "'The integer 307 is odd'",
            "text/plain": [
              "[1] \"The integer 307 is odd\""
            ]
          },
          "metadata": {}
        },
        {
          "output_type": "display_data",
          "data": {
            "text/html": [
              "'The integer 498 is even'"
            ],
            "text/markdown": "'The integer 498 is even'",
            "text/latex": "'The integer 498 is even'",
            "text/plain": [
              "[1] \"The integer 498 is even\""
            ]
          },
          "metadata": {}
        }
      ]
    },
    {
      "cell_type": "code",
      "source": [
        "# create a function in R that:\n",
        "#   1. takes 4 integer input parameters\n",
        "#   2. returns the mean value of the inputs\n",
        "#   3. has default values for the 4 input parameters, in case they are not provided when the function is called.\n",
        "#\n",
        "# then execute the function twice: once where you provide the input values, and once where you do not.\n",
        "\n",
        "\n",
        "mean_calc <- function (R = 6, H = 491, P = 93, C = 2) {\n",
        "  vec1 <- (c(R,H,P,C))\n",
        "  mean = mean(vec1)\n",
        "  mean\n",
        "}\n",
        "mean_calc (2938, 5, 73, 19)\n",
        "mean_calc()"
      ],
      "metadata": {
        "id": "f3IFD-T6p6Rd",
        "outputId": "efaf6945-f156-4a1a-d6df-f8acb5f704be",
        "colab": {
          "base_uri": "https://localhost:8080/",
          "height": 52
        }
      },
      "execution_count": 72,
      "outputs": [
        {
          "output_type": "display_data",
          "data": {
            "text/html": [
              "758.75"
            ],
            "text/markdown": "758.75",
            "text/latex": "758.75",
            "text/plain": [
              "[1] 758.75"
            ]
          },
          "metadata": {}
        },
        {
          "output_type": "display_data",
          "data": {
            "text/html": [
              "148"
            ],
            "text/markdown": "148",
            "text/latex": "148",
            "text/plain": [
              "[1] 148"
            ]
          },
          "metadata": {}
        }
      ]
    },
    {
      "cell_type": "markdown",
      "source": [
        "## 2. Plot Data (4 pts)"
      ],
      "metadata": {
        "id": "F6Rx0GIGrpOB"
      }
    },
    {
      "cell_type": "markdown",
      "source": [
        "In the cell below, write the code required to plot from the `msleep` sample data set.\n",
        "\n",
        "1. Display only animals with body weights of 30 or greater.\n",
        "2. Group the animals by `order`.\n",
        "3. Display the mean `sleep_total` for each group in a bar plot."
      ],
      "metadata": {
        "id": "IDLyOjOJsFCX"
      }
    },
    {
      "cell_type": "code",
      "source": [
        "library(tidyverse)\n",
        "library(ggplot2)\n",
        "\n",
        "ggplot(msleep[msleep$bodywt >= 30,], aes(x=order)) + geom_bar(fill = \"midnight blue\" )+ geom_text(aes(y = mean(msleep$sleep_label), label = mean(msleep$sleep_label)))\n",
        "# while I got the graph, I was not quite sure how at properly add the mean values to it"
      ],
      "metadata": {
        "id": "0D5Ia-BPsoPZ",
        "outputId": "a4ade43a-df3e-406d-af4a-b0d88891c706",
        "colab": {
          "base_uri": "https://localhost:8080/",
          "height": 758
        }
      },
      "execution_count": 222,
      "outputs": [
        {
          "output_type": "stream",
          "name": "stderr",
          "text": [
            "Warning message:\n",
            "“Unknown or uninitialised column: `sleep_label`.”\n",
            "Warning message in mean.default(msleep$sleep_label):\n",
            "“argument is not numeric or logical: returning NA”\n",
            "Warning message:\n",
            "“Unknown or uninitialised column: `sleep_label`.”\n",
            "Warning message in mean.default(msleep$sleep_label):\n",
            "“argument is not numeric or logical: returning NA”\n",
            "Warning message:\n",
            "“Unknown or uninitialised column: `sleep_label`.”\n",
            "Warning message in mean.default(msleep$sleep_label):\n",
            "“argument is not numeric or logical: returning NA”\n",
            "Warning message:\n",
            "“Unknown or uninitialised column: `sleep_label`.”\n",
            "Warning message in mean.default(msleep$sleep_label):\n",
            "“argument is not numeric or logical: returning NA”\n",
            "Warning message:\n",
            "“\u001b[1m\u001b[22mRemoved 22 rows containing missing values (`geom_text()`).”\n"
          ]
        },
        {
          "output_type": "display_data",
          "data": {
            "text/plain": [
              "plot without title"
            ],
            "image/png": "[encoded data removed]"
          },
          "metadata": {
            "image/png": {
              "width": 420,
              "height": 420
            }
          }
        }
      ]
    },
    {
      "cell_type": "markdown",
      "source": [
        "## 3. Clean and Analyze Data Using R (4 pts)\n",
        "\n",
        "In the cells below use R to perform the following data cleaning steps on this file:\n",
        "https://raw.githubusercontent.com/nmagee/ds1002/main/data/social-media-users.csv\n",
        "\n",
        "1. Remove any duplicate rows.\n",
        "2. Remove any records where `last_login` or `birthdate` are empty.\n",
        "3. Display only the records with the 10 highest `follower` counts.\n",
        "4. Determine counts of users when grouped by continent."
      ],
      "metadata": {
        "id": "-2ZaFcCCv3o8"
      }
    },
    {
      "cell_type": "code",
      "source": [
        "#\n",
        "social_media <- read.csv(\"https://raw.githubusercontent.com/nmagee/ds1002/main/data/social-media-users.csv\")\n",
        "nrow(social_media[duplicated(social_media), ])\n",
        "social_media2 <- social_media[!duplicated(social_media), ]\n",
        "nrow(social_media2[duplicated(social_media2), ])"
      ],
      "metadata": {
        "id": "V4nBsdVsyauQ",
        "outputId": "4ebff790-9a96-4cb2-dc39-256fbc3a2980",
        "colab": {
          "base_uri": "https://localhost:8080/",
          "height": 52
        }
      },
      "execution_count": 160,
      "outputs": [
        {
          "output_type": "display_data",
          "data": {
            "text/html": [
              "318"
            ],
            "text/markdown": "318",
            "text/latex": "318",
            "text/plain": [
              "[1] 318"
            ]
          },
          "metadata": {}
        },
        {
          "output_type": "display_data",
          "data": {
            "text/html": [
              "0"
            ],
            "text/markdown": "0",
            "text/latex": "0",
            "text/plain": [
              "[1] 0"
            ]
          },
          "metadata": {}
        }
      ]
    },
    {
      "cell_type": "code",
      "source": [
        "#\n",
        "social_media2[social_media2==\"\"] <- NA\n",
        "social_media3 <- social_media2[complete.cases(social_media2$last_login, social_media2$birthdate), ]\n",
        "social_media3"
      ],
      "metadata": {
        "id": "LwXD1sNulIT3"
      },
      "execution_count": null,
      "outputs": []
    },
    {
      "cell_type": "code",
      "source": [
        "social_media4 <- social_media3[order(-social_media3$followers),]\n",
        "social_media4 <- social_media4[1:10,]\n",
        "social_media4"
      ],
      "metadata": {
        "id": "7qa100btlI4Z",
        "outputId": "9134dd7d-4e5f-4738-f126-3e5b45983d9a",
        "colab": {
          "base_uri": "https://localhost:8080/",
          "height": 412
        }
      },
      "execution_count": 216,
      "outputs": [
        {
          "output_type": "display_data",
          "data": {
            "text/html": [
              "<table class=\"dataframe\">\n",
              "<caption>A data.frame: 10 × 8</caption>\n",
              "<thead>\n",
              "\t<tr><th></th><th scope=col>username</th><th scope=col>full_name</th><th scope=col>birthdate</th><th scope=col>email</th><th scope=col>continent</th><th scope=col>followers</th><th scope=col>last_login</th><th scope=col>interests</th></tr>\n",
              "\t<tr><th></th><th scope=col>&lt;chr&gt;</th><th scope=col>&lt;chr&gt;</th><th scope=col>&lt;chr&gt;</th><th scope=col>&lt;chr&gt;</th><th scope=col>&lt;chr&gt;</th><th scope=col>&lt;int&gt;</th><th scope=col>&lt;chr&gt;</th><th scope=col>&lt;chr&gt;</th></tr>\n",
              "</thead>\n",
              "<tbody>\n",
              "\t<tr><th scope=row>721</th><td>lleckeyb6    </td><td>Lynne Leckey        </td><td>4/19/1998 </td><td>lleckeyb6@tripadvisor.com</td><td>SA</td><td>99977</td><td>3/14/2021 </td><td>sports</td></tr>\n",
              "\t<tr><th scope=row>681</th><td>spharoaha2   </td><td>Staci Pharoah       </td><td>9/2/1985  </td><td>spharoaha2@sfgate.com    </td><td>NA</td><td>99905</td><td>10/26/2023</td><td>sports</td></tr>\n",
              "\t<tr><th scope=row>821</th><td>cduftondy    </td><td>Celisse Dufton      </td><td>8/24/1995 </td><td>cduftondy@ox.ac.uk       </td><td>OC</td><td>99707</td><td>9/26/2021 </td><td>sports</td></tr>\n",
              "\t<tr><th scope=row>578</th><td>dbartalin77  </td><td>Desiree Bartalin    </td><td>8/23/1993 </td><td>dbartalin77@usda.gov     </td><td>AF</td><td>99618</td><td>5/30/2022 </td><td>music </td></tr>\n",
              "\t<tr><th scope=row>1136</th><td>grivardmp    </td><td>Gwen Rivard         </td><td>9/12/1982 </td><td>grivardmp@google.com.hk  </td><td>OC</td><td>99526</td><td>4/4/2020  </td><td>music </td></tr>\n",
              "\t<tr><th scope=row>659</th><td>mraggitt9g   </td><td>Morgan Raggitt      </td><td>11/16/1992</td><td>mraggitt9g@home.pl       </td><td>NA</td><td>99508</td><td>11/12/2021</td><td>music </td></tr>\n",
              "\t<tr><th scope=row>830</th><td>wbenese7     </td><td>Wain Benes          </td><td>3/9/1998  </td><td>wbenese7@ebay.com        </td><td>NA</td><td>99400</td><td>10/1/2021 </td><td>travel</td></tr>\n",
              "\t<tr><th scope=row>960</th><td>kmorriceht   </td><td>Kitti Morrice       </td><td>6/3/1995  </td><td>kmorriceht@privacy.gov.au</td><td>SA</td><td>98936</td><td>3/24/2021 </td><td>sports</td></tr>\n",
              "\t<tr><th scope=row>595</th><td>smacdonnell7o</td><td>Shoshanna MacDonnell</td><td>9/12/2002 </td><td>smacdonnell7o@toplist.cz </td><td>AS</td><td>98760</td><td>7/20/2021 </td><td>music </td></tr>\n",
              "\t<tr><th scope=row>113</th><td>dcossum34    </td><td>Dwain Cossum        </td><td>9/9/1990  </td><td>dcossum34@dagondesign.com</td><td>NA</td><td>98743</td><td>6/7/2021  </td><td>sports</td></tr>\n",
              "</tbody>\n",
              "</table>\n"
            ],
            "text/markdown": "\nA data.frame: 10 × 8\n\n| <!--/--> | username &lt;chr&gt; | full_name &lt;chr&gt; | birthdate &lt;chr&gt; | email &lt;chr&gt; | continent &lt;chr&gt; | followers &lt;int&gt; | last_login &lt;chr&gt; | interests &lt;chr&gt; |\n|---|---|---|---|---|---|---|---|---|\n| 721 | lleckeyb6     | Lynne Leckey         | 4/19/1998  | lleckeyb6@tripadvisor.com | SA | 99977 | 3/14/2021  | sports |\n| 681 | spharoaha2    | Staci Pharoah        | 9/2/1985   | spharoaha2@sfgate.com     | NA | 99905 | 10/26/2023 | sports |\n| 821 | cduftondy     | Celisse Dufton       | 8/24/1995  | cduftondy@ox.ac.uk        | OC | 99707 | 9/26/2021  | sports |\n| 578 | dbartalin77   | Desiree Bartalin     | 8/23/1993  | dbartalin77@usda.gov      | AF | 99618 | 5/30/2022  | music  |\n| 1136 | grivardmp     | Gwen Rivard          | 9/12/1982  | grivardmp@google.com.hk   | OC | 99526 | 4/4/2020   | music  |\n| 659 | mraggitt9g    | Morgan Raggitt       | 11/16/1992 | mraggitt9g@home.pl        | NA | 99508 | 11/12/2021 | music  |\n| 830 | wbenese7      | Wain Benes           | 3/9/1998   | wbenese7@ebay.com         | NA | 99400 | 10/1/2021  | travel |\n| 960 | kmorriceht    | Kitti Morrice        | 6/3/1995   | kmorriceht@privacy.gov.au | SA | 98936 | 3/24/2021  | sports |\n| 595 | smacdonnell7o | Shoshanna MacDonnell | 9/12/2002  | smacdonnell7o@toplist.cz  | AS | 98760 | 7/20/2021  | music  |\n| 113 | dcossum34     | Dwain Cossum         | 9/9/1990   | dcossum34@dagondesign.com | NA | 98743 | 6/7/2021   | sports |\n\n",
            "text/latex": "A data.frame: 10 × 8\n\\begin{tabular}{r|llllllll}\n  & username & full\\_name & birthdate & email & continent & followers & last\\_login & interests\\\\\n  & <chr> & <chr> & <chr> & <chr> & <chr> & <int> & <chr> & <chr>\\\\\n\\hline\n\t721 & lleckeyb6     & Lynne Leckey         & 4/19/1998  & lleckeyb6@tripadvisor.com & SA & 99977 & 3/14/2021  & sports\\\\\n\t681 & spharoaha2    & Staci Pharoah        & 9/2/1985   & spharoaha2@sfgate.com     & NA & 99905 & 10/26/2023 & sports\\\\\n\t821 & cduftondy     & Celisse Dufton       & 8/24/1995  & cduftondy@ox.ac.uk        & OC & 99707 & 9/26/2021  & sports\\\\\n\t578 & dbartalin77   & Desiree Bartalin     & 8/23/1993  & dbartalin77@usda.gov      & AF & 99618 & 5/30/2022  & music \\\\\n\t1136 & grivardmp     & Gwen Rivard          & 9/12/1982  & grivardmp@google.com.hk   & OC & 99526 & 4/4/2020   & music \\\\\n\t659 & mraggitt9g    & Morgan Raggitt       & 11/16/1992 & mraggitt9g@home.pl        & NA & 99508 & 11/12/2021 & music \\\\\n\t830 & wbenese7      & Wain Benes           & 3/9/1998   & wbenese7@ebay.com         & NA & 99400 & 10/1/2021  & travel\\\\\n\t960 & kmorriceht    & Kitti Morrice        & 6/3/1995   & kmorriceht@privacy.gov.au & SA & 98936 & 3/24/2021  & sports\\\\\n\t595 & smacdonnell7o & Shoshanna MacDonnell & 9/12/2002  & smacdonnell7o@toplist.cz  & AS & 98760 & 7/20/2021  & music \\\\\n\t113 & dcossum34     & Dwain Cossum         & 9/9/1990   & dcossum34@dagondesign.com & NA & 98743 & 6/7/2021   & sports\\\\\n\\end{tabular}\n",
            "text/plain": [
              "     username      full_name            birthdate  email                    \n",
              "721  lleckeyb6     Lynne Leckey         4/19/1998  lleckeyb6@tripadvisor.com\n",
              "681  spharoaha2    Staci Pharoah        9/2/1985   spharoaha2@sfgate.com    \n",
              "821  cduftondy     Celisse Dufton       8/24/1995  cduftondy@ox.ac.uk       \n",
              "578  dbartalin77   Desiree Bartalin     8/23/1993  dbartalin77@usda.gov     \n",
              "1136 grivardmp     Gwen Rivard          9/12/1982  grivardmp@google.com.hk  \n",
              "659  mraggitt9g    Morgan Raggitt       11/16/1992 mraggitt9g@home.pl       \n",
              "830  wbenese7      Wain Benes           3/9/1998   wbenese7@ebay.com        \n",
              "960  kmorriceht    Kitti Morrice        6/3/1995   kmorriceht@privacy.gov.au\n",
              "595  smacdonnell7o Shoshanna MacDonnell 9/12/2002  smacdonnell7o@toplist.cz \n",
              "113  dcossum34     Dwain Cossum         9/9/1990   dcossum34@dagondesign.com\n",
              "     continent followers last_login interests\n",
              "721  SA        99977     3/14/2021  sports   \n",
              "681  NA        99905     10/26/2023 sports   \n",
              "821  OC        99707     9/26/2021  sports   \n",
              "578  AF        99618     5/30/2022  music    \n",
              "1136 OC        99526     4/4/2020   music    \n",
              "659  NA        99508     11/12/2021 music    \n",
              "830  NA        99400     10/1/2021  travel   \n",
              "960  SA        98936     3/24/2021  sports   \n",
              "595  AS        98760     7/20/2021  music    \n",
              "113  NA        98743     6/7/2021   sports   "
            ]
          },
          "metadata": {}
        }
      ]
    },
    {
      "cell_type": "code",
      "source": [
        "table(social_media4$continent) # i was not sure if the output was supposed to be based on the top 10 or the overall cleaned dataset\n",
        "table(social_media3$continent)\n",
        "social_media4[social_media4$continent==\"NA\"] <- \"N. America\" # I tried to redefine the NAs in continent to mean North America because\n",
        "# I don't believe they are NA values, but R recognized them as such"
      ],
      "metadata": {
        "id": "MjrZisnxlJUa",
        "outputId": "b4c91612-7ce9-4b23-e166-c8078654a72a",
        "colab": {
          "base_uri": "https://localhost:8080/",
          "height": 304
        }
      },
      "execution_count": 219,
      "outputs": [
        {
          "output_type": "display_data",
          "data": {
            "text/plain": [
              "\n",
              "AF AS OC SA \n",
              " 1  1  2  2 "
            ]
          },
          "metadata": {}
        },
        {
          "output_type": "display_data",
          "data": {
            "text/plain": [
              "\n",
              " AF  AS  EU  OC  SA \n",
              " 70 111  77  95  69 "
            ]
          },
          "metadata": {}
        },
        {
          "output_type": "error",
          "ename": "ERROR",
          "evalue": "ignored",
          "traceback": [
            "Error in `[<-.data.frame`(`*tmp*`, social_media4$continent == \"NA\", value = \"N. America\"): missing values are not allowed in subscripted assignments of data frames\nTraceback:\n",
            "1. `[<-`(`*tmp*`, social_media4$continent == \"NA\", value = \"N. America\")",
            "2. `[<-.data.frame`(`*tmp*`, social_media4$continent == \"NA\", value = \"N. America\")",
            "3. stop(\"missing values are not allowed in subscripted assignments of data frames\")"
          ]
        }
      ]
    }
  ]
}